{
 "cells": [
  {
   "cell_type": "code",
   "execution_count": 8,
   "id": "956d855a-66c7-44ed-9692-b8e15958892e",
   "metadata": {},
   "outputs": [],
   "source": [
    "import pandas as pd\n",
    "df = pd.read_csv(\"ielts_writing_dataset.csv\") "
   ]
  },
  {
   "cell_type": "code",
   "execution_count": 17,
   "id": "a854c4f8-c8cd-4ca4-aab6-333fbdc053b5",
   "metadata": {},
   "outputs": [],
   "source": [
    "df = df.drop(['Examiner_Commen', 'Task_Response', 'Coherence_Cohesion', 'Range_Accuracy', 'Lexical_Resource'], axis=1)"
   ]
  },
  {
   "cell_type": "code",
   "execution_count": 18,
   "id": "0bc3468a-d95a-4ec2-9262-59ed739d4f8c",
   "metadata": {},
   "outputs": [
    {
     "name": "stdout",
     "output_type": "stream",
     "text": [
      "                                            Question  \\\n",
      "0  The bar chart below describes some changes abo...   \n",
      "1  Rich countries often give money to poorer coun...   \n",
      "2  The bar chart below describes some changes abo...   \n",
      "3  Rich countries often give money to poorer coun...   \n",
      "4  The graph below shows the number of overseas v...   \n",
      "\n",
      "                                               Essay  Overall  \n",
      "0  Between 1995 and 2010, a study was conducted r...      5.5  \n",
      "1  Poverty represents a worldwide crisis. It is t...      6.5  \n",
      "2  The left chart shows the population change hap...      5.0  \n",
      "3  Human beings are facing many challenges nowada...      5.5  \n",
      "4  Information about the thousands of visits from...      7.0  \n",
      "Index(['Question', 'Essay', 'Overall'], dtype='object')\n"
     ]
    }
   ],
   "source": [
    "print(df.head())\n",
    "print(df.columns)"
   ]
  },
  {
   "cell_type": "code",
   "execution_count": null,
   "id": "eaec6efb-b91c-4a6b-be43-88c7b8fe3fc9",
   "metadata": {},
   "outputs": [],
   "source": []
  },
  {
   "cell_type": "code",
   "execution_count": null,
   "id": "4d79ad1a-56aa-421c-b7bb-4aa53a49d7f2",
   "metadata": {},
   "outputs": [],
   "source": []
  }
 ],
 "metadata": {
  "kernelspec": {
   "display_name": "Python 3 (ipykernel)",
   "language": "python",
   "name": "python3"
  },
  "language_info": {
   "codemirror_mode": {
    "name": "ipython",
    "version": 3
   },
   "file_extension": ".py",
   "mimetype": "text/x-python",
   "name": "python",
   "nbconvert_exporter": "python",
   "pygments_lexer": "ipython3",
   "version": "3.13.1"
  }
 },
 "nbformat": 4,
 "nbformat_minor": 5
}
